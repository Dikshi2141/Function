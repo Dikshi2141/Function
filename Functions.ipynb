{
  "nbformat": 4,
  "nbformat_minor": 0,
  "metadata": {
    "colab": {
      "provenance": []
    },
    "kernelspec": {
      "name": "python3",
      "display_name": "Python 3"
    },
    "language_info": {
      "name": "python"
    }
  },
  "cells": [
    {
      "cell_type": "code",
      "execution_count": null,
      "metadata": {
        "id": "y3uK9d1jm_HR"
      },
      "outputs": [],
      "source": []
    },
    {
      "cell_type": "markdown",
      "source": [
        "Q 1. What is the difference between a function and a method in Python?\n",
        "Function: A function is a block of reusable code that performs a specific task. It is defined using the def keyword outside of any class or object. A function can be called independently.\n",
        "\n",
        "python\n",
        "Copy\n",
        "def my_function():\n",
        "    print(\"This is a function\")\n",
        "Example of usage:\n",
        "\n",
        "python\n",
        "Copy\n",
        "my_function()  # Calling a function\n",
        "Method: A method is a function that is associated with an object, usually a class. Methods are defined within a class and are meant to operate on the instance (object) of the class or the class itself (class methods)."
      ],
      "metadata": {
        "id": "QXa03aWVnCzc"
      }
    },
    {
      "cell_type": "markdown",
      "source": [
        "2. Explain the concept of function arguments and parameters in Python.\n",
        "In Python, function arguments and parameters are fundamental concepts that allow functions to accept and work with input values.\n",
        "Function Parameters:\n",
        "Parameters are the names defined in the function signature (declaration). They act as placeholders for the values that will be passed to the function when it is called.\n",
        "Parameters are like variables inside the function definition that hold the values passed to the function during its invocation.\n",
        "\n"
      ],
      "metadata": {
        "id": "qVDOJsEWnC3S"
      }
    },
    {
      "cell_type": "markdown",
      "source": [
        "3. What are the different ways to define and call a function in Python?\n",
        "1.Simple Function: Defined with def and called with parentheses.\n",
        "2.Function with Parameters: Accepts input parameters that are passed during the call.\n",
        "3.Return Values: Functions can return values to the caller.\n",
        "4.Default Arguments: Parameters can have default values, making them optional.\n",
        "5.Keyword Arguments: Arguments can be passed by explicitly naming the parameter.\n",
        "6.Variable-Length Arguments (*args, **kwargs): Functions can accept an arbitrary number of arguments.\n",
        "7.Lambda Functions: Anonymous functions that are small and concise.\n",
        "8.Partial Functions: Pre-fix arguments to create new functions using functools.partial.\n",
        "9.Methods in Classes: Functions defined within a class, typically operating on instances or the class."
      ],
      "metadata": {
        "id": "-OOdP69pnC7I"
      }
    },
    {
      "cell_type": "markdown",
      "source": [
        "4. What is the purpose of the `return` statement in a Python function?\n",
        "\n",
        "The return statement in a Python function is used to exit the function and optionally pass a value back to the caller. When a function executes a return statement, it sends a result (if specified) to the place where the function was called, and the function terminates at that point.\n",
        "\n",
        "Without a value: If return is used without a value, the function ends and returns None by default.\n",
        "With a value: If a value is specified after the return keyword, that value is returned to the caller."
      ],
      "metadata": {
        "id": "zEhWzse2nC96"
      }
    },
    {
      "cell_type": "markdown",
      "source": [
        ". What are iterators in Python and how do they differ from iterables?\n",
        "\n",
        "\n",
        "In Python, both iterators and iterables are important concepts related to iteration, but they serve different roles. Here’s a breakdown of the differences:\n",
        "\n",
        "Iterable\n",
        "An iterable is any object in Python that can be looped over (iterated) using a for loop or other iteration mechanisms. An iterable is an object that implements the __iter__() method, which returns an iterator.\n",
        "\n",
        "Common examples of iterables include:\n",
        "\n",
        "Lists\n",
        "Tuples\n",
        "Strings\n",
        "Dictionaries (iterating over keys or values)\n",
        "Sets\n",
        "The key feature of an iterable is that it can be converted into an iterator using the iter() function. Once an object is an iterable, Python can use it to produce an iterator.\n",
        "\n",
        "\n",
        "Iterator\n",
        "An iterator is an object that keeps track of its current position during iteration. It must implement two methods:\n",
        "\n",
        "__iter__() — Returns the iterator object itself (this allows the iterator to be used in a loop).\n",
        "__next__() — Returns the next item from the collection, or raises StopIteration when the iteration is complete.\n",
        "An iterator allows you to traverse through the items of an iterable one by one, but it does not store all the items in memory at once (making it more memory efficient in some cases, especially with large data structures)."
      ],
      "metadata": {
        "id": "wfWudUocnDBY"
      }
    },
    {
      "cell_type": "markdown",
      "source": [
        "Explain the concept of generators in Python and how they are defined.\n",
        "\n",
        "\n",
        "n Python, generators are a type of iterable, like lists or tuples, but with a key difference: they generate items one at a time as needed (on-demand), rather than storing all items in memory at once. This makes them more memory-efficient, especially when working with large datasets or streams of data.\n",
        "\n",
        "How Generators Work:\n",
        "Generators use the yield keyword to produce values one by one. Each time a generator's __next__() method is called (either directly or via a loop), it resumes from where it left off, maintaining its state between calls. When a yield statement is executed, it pauses the generator function, \"yields\" a value to the caller, and keeps track of the execution state, so that it can continue from that point when the next value is requested.\n",
        "\n",
        "Defining a Generator:\n",
        "A generator is typically defined using a function with the yield keyword. Here's an example:\n",
        "\n",
        "python\n",
        "Copy\n",
        "def count_up_to(max):\n",
        "    count = 1\n",
        "    while count <= max:\n",
        "        yield count  # Yield returns a value and pauses the function\n",
        "        count += 1\n",
        "Using the Generator:\n",
        "Once the generator function is defined, you can create a generator object and iterate over it to get the yielded values:\n",
        "\n",
        "python\n",
        "Copy\n",
        "counter = count_up_to(5)\n",
        "\n",
        "# Iterating over the generator\n",
        "for num in counter:\n",
        "    print(num)\n",
        "Output:\n",
        "\n",
        "Copy\n",
        "1\n",
        "2\n",
        "3\n",
        "4\n",
        "5\n",
        "Key Points:\n",
        "Lazy Evaluation: Generators only compute the next value when needed (lazily). This is efficient when dealing with large or infinite sequences.\n",
        "Memory Efficiency: Unlike lists, which store all items in memory, generators produce items on the fly, making them much more memory-efficient for large datasets.\n",
        "Stateful: A generator function retains its state between calls (i.e., variables and the point in the function where it last yielded a value).\n",
        "Generator Expressions:\n",
        "In addition to defining a generator function, you can also use generator expressions, which are similar to list comprehensions but use parentheses instead of square brackets:\n",
        "\n",
        "python\n",
        "Copy\n",
        "gen_expr = (x * x for x in range(5))\n",
        "\n",
        "for value in gen_expr:\n",
        "    print(value)\n",
        "This will output:\n",
        "\n",
        "Copy\n",
        "0\n",
        "1\n",
        "4\n",
        "9\n",
        "16"
      ],
      "metadata": {
        "id": "dyTbZRLjTVER"
      }
    },
    {
      "cell_type": "markdown",
      "source": [
        " What are the advantages of using generators over regular functions?\n",
        "\n",
        "Ans. Generators are ideal for scenarios involving large amounts of data, streaming, or when memory and performance are critical. Regular functions, on the other hand, might be more straightforward for smaller or finite sets of data where performance and memory are less of a concern."
      ],
      "metadata": {
        "id": "XJWF9mvxTyLN"
      }
    },
    {
      "cell_type": "markdown",
      "source": [
        "Q 8. What is a lambda function in Python and when is it typically used?\n",
        "\n",
        "A lambda function in Python is a small, anonymous function defined using the lambda keyword. It is syntactically simpler than a regular function created with the def keyword. A lambda function can have any number of arguments but only one expression, which is evaluated and returned automatically."
      ],
      "metadata": {
        "id": "GWdLkg1ZTVU6"
      }
    },
    {
      "cell_type": "markdown",
      "source": [
        "Q 9.Explain the purpose and usage of the `map()` function in Python?\n",
        "\n",
        "The primary purpose of map() is to apply a function to every item in an iterable (or multiple iterables), without needing to write an explicit loop. It helps simplify the code and make it more readable when you need to perform an operation on each item in a collection.\n",
        "\n",
        "# Example: Applying a function that squares each number in a list\n",
        "def square(x):\n",
        "    return x * x\n",
        "\n",
        "numbers = [1, 2, 3, 4, 5]\n",
        "result = map(square, numbers)\n",
        "\n",
        "# Convert the result to a list and print\n",
        "print(list(result))  # Output: [1, 4, 9, 16, 25]"
      ],
      "metadata": {
        "id": "hsUS-UjuTVYh"
      }
    },
    {
      "cell_type": "markdown",
      "source": [
        "Q 10. What is the difference between `map()`, `reduce()`, and `filter()` functions in Python?\n",
        "\n",
        "Ans. map(): Transforms each item in the iterable using a function.\n",
        "reduce(): Reduces the iterable to a single value by cumulatively applying a binary function.\n",
        "filter(): Filters items in the iterable by applying a condition and returning only those that satisfy it."
      ],
      "metadata": {
        "id": "Cyd_ITrDnDER"
      }
    },
    {
      "cell_type": "markdown",
      "source": [
        "Q 11. Using pen & Paper write the internal mechanism for sum operation using  reduce function on this given\n",
        "list:[47,11,42,13];\n",
        "\n",
        "\n",
        "Ans. from functools import reduce\n",
        "\n",
        "# Given list\n",
        "numbers = [47, 11, 42, 13]\n",
        "\n",
        "# Define the sum operation using reduce\n",
        "result = reduce(lambda x, y: x + y, numbers)\n",
        "\n",
        "print(result)  \n",
        "\n",
        "# Output: 113\n"
      ],
      "metadata": {
        "id": "boo0B-yRnDG9"
      }
    },
    {
      "cell_type": "markdown",
      "source": [
        "**PRACTICALS**"
      ],
      "metadata": {
        "id": "SK3qaUVvPUL2"
      }
    },
    {
      "cell_type": "code",
      "source": [
        "#Write a Python function that takes a list of numbers as input and returns the sum of all even numbers in the list?\n",
        "\n",
        "def sum_of_even_numbers(numbers):\n",
        "    # Initialize the sum to 0\n",
        "    total = 0\n",
        "    # Iterate through each number in the list\n",
        "    for num in numbers:\n",
        "        # Check if the number is even\n",
        "        if num % 2 == 0:\n",
        "            total += num  # Add the even number to the total\n",
        "    return total\n"
      ],
      "metadata": {
        "id": "BaB6t2OXXcVA"
      },
      "execution_count": 2,
      "outputs": []
    },
    {
      "cell_type": "code",
      "source": [
        "#2. Create a Python function that accepts a string and returns the reverse of that string.\n",
        "\n",
        "def reverse_string(input_string):\n",
        "    return input_string[::-1]"
      ],
      "metadata": {
        "id": "asJvynZvXcvw"
      },
      "execution_count": null,
      "outputs": []
    },
    {
      "cell_type": "code",
      "source": [
        "#3.Implement a Python function that takes a list of integers and returns a new list containing the squares of each number.\n",
        "\n",
        "def square_numbers(nums):\n",
        "    return [num ** 2 for num in nums]\n",
        "\n",
        ""
      ],
      "metadata": {
        "id": "I0kOUjCdXczY"
      },
      "execution_count": null,
      "outputs": []
    },
    {
      "cell_type": "code",
      "source": [
        "#4. Write a Python function that checks if a given number is prime or not from 1 to 200.\n",
        "\n",
        "def is_prime(n):\n",
        "    if n <= 1:\n",
        "        return False\n",
        "    for i in range(2, int(n**0.5) + 1):\n",
        "        if n % i == 0:\n",
        "            return False\n",
        "    return True"
      ],
      "metadata": {
        "id": "VyhnRgbhXc2L"
      },
      "execution_count": null,
      "outputs": []
    },
    {
      "cell_type": "code",
      "source": [
        "#5. Create an iterator class in Python that generates the Fibonacci sequence up to a specified number of terms.\n",
        "\n",
        "class FibonacciIterator:\n",
        "    def __init__(self, num_terms):\n",
        "        self.num_terms = num_terms\n",
        "        self.current = 0\n",
        "        self.next = 1\n",
        "        self.count = 0\n",
        "\n",
        "    def __iter__(self):\n",
        "        return self\n",
        "\n",
        "    def __next__(self):\n",
        "        if self.count < self.num_terms:\n",
        "            fib_num = self.current\n",
        "            self.current, self.next = self.next, self.current + self.next\n",
        "            self.count += 1\n",
        "            return fib_num\n",
        "        else:\n",
        "            raise StopIteration"
      ],
      "metadata": {
        "id": "-oFnKQItXc5P"
      },
      "execution_count": null,
      "outputs": []
    },
    {
      "cell_type": "code",
      "source": [
        "#6.Write a generator function in Python that yields the powers of 2 up to a given exponent\n",
        "\n",
        "def powers_of_two(exponent):\n",
        "    for i in range(exponent + 1):\n",
        "        yield 2 ** i"
      ],
      "metadata": {
        "id": "6Ff6oVi6Xc8Q"
      },
      "execution_count": null,
      "outputs": []
    },
    {
      "cell_type": "code",
      "source": [
        "#7. Implement a generator function that reads a file line by line and yields each line as a string.\n",
        "\n",
        "def read_file_line_by_line(file_path):\n",
        "    with open(file_path, 'r') as file:\n",
        "        for line in file:\n",
        "            yield line.strip()  # `strip()` is used to remove any trailing newline characters\n",
        "\n",
        "\n"
      ],
      "metadata": {
        "id": "m-jdFVbIXc_K"
      },
      "execution_count": null,
      "outputs": []
    },
    {
      "cell_type": "code",
      "source": [
        "#8.Use a lambda function in Python to sort a list of tuples based on the second element of each tuple.\n",
        "\n",
        "# List of tuples\n",
        "tuples = [(1, 3), (2, 1), (4, 2), (3, 4)]\n",
        "\n",
        "# Sort the list based on the second element of each tuple\n",
        "sorted_tuples = sorted(tuples, key=lambda x: x[1])\n",
        "\n",
        "# Output the sorted list\n",
        "print(sorted_tuples)\n"
      ],
      "metadata": {
        "id": "CXOQUl7fZxdT"
      },
      "execution_count": null,
      "outputs": []
    },
    {
      "cell_type": "code",
      "source": [
        "#9. Write a Python program that uses `map()` to convert a list of temperatures from Celsius to Fahrenheit.\n",
        "\n",
        "# Function to convert Celsius to Fahrenheit\n",
        "def celsius_to_fahrenheit(celsius):\n",
        "    return (celsius * 9/5) + 32\n",
        "\n",
        "# List of temperatures in Celsius\n",
        "celsius_temperatures = [0, 20, 37, 100, -10]\n",
        "\n",
        "# Use map() to apply the conversion function to each element in the list\n",
        "fahrenheit_temperatures = list(map(celsius_to_fahrenheit, celsius_temperatures))\n",
        "\n",
        "# Print the result\n",
        "print(fahrenheit_temperatures)\n"
      ],
      "metadata": {
        "id": "KIX23G2VZxgl"
      },
      "execution_count": null,
      "outputs": []
    },
    {
      "cell_type": "code",
      "source": [
        "#10.Create a Python program that uses `filter()` to remove all the vowels from a given string.\n",
        "\n",
        "def remove_vowels(input_string):\n",
        "    vowels = \"aeiouAEIOU\"\n",
        "    # Filter the input string and keep only non-vowel characters\n",
        "    filtered_string = ''.join(filter(lambda char: char not in vowels, input_string))\n",
        "    return filtered_string\n",
        "\n",
        "# Example usage\n",
        "input_string = \"Hello, World!\"\n",
        "result = remove_vowels(input_string)\n",
        "print(f\"Original String: {input_string}\")\n",
        "print(f\"String without vowels: {result}\")\n"
      ],
      "metadata": {
        "id": "nbX8CpGTZxm6"
      },
      "execution_count": null,
      "outputs": []
    },
    {
      "cell_type": "code",
      "source": [
        "#11. Imagine an accounting routine used in a book shop. It works on a list with sublists, which look like this:\n",
        "\n",
        "# Sample data for order numbers, prices, and quantities\n",
        "orders = [\n",
        "    (1, 4, 40.95),  # Order 1: price 30.0 € per item, quantity 4\n",
        "    (2, 5, 56.80),  # Order 2: price 50.0 € per item, quantity 5\n",
        "    (3, 3, 32.95), # Order 3: price 10.0 € per item, quantity 3\n",
        "    (4, 3, 24.99),  # Order 4: price 70.0 € per item, quantity 3\n",
        "]\n",
        "\n",
        "# Lambda function to calculate the total price with condition\n",
        "order_with_total = list(map(\n",
        "    lambda order: (order[0], order[1] * order[2] + 10 if order[1] * order[2] < 100 else order[1] * order[2]),\n",
        "    orders\n",
        "))\n",
        "\n",
        "# Print the result\n",
        "print(order_with_total)\n"
      ],
      "metadata": {
        "colab": {
          "base_uri": "https://localhost:8080/"
        },
        "id": "NbJEGpT_Zxtm",
        "outputId": "81a4164f-d266-4704-f2ef-282764faf1f1"
      },
      "execution_count": 4,
      "outputs": [
        {
          "output_type": "stream",
          "name": "stdout",
          "text": [
            "[(1, 163.8), (2, 284.0), (3, 108.85000000000001), (4, 84.97)]\n"
          ]
        }
      ]
    },
    {
      "cell_type": "code",
      "source": [],
      "metadata": {
        "id": "gYyZqcq5XdCH"
      },
      "execution_count": null,
      "outputs": []
    }
  ]
}